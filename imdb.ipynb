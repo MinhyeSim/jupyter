{
 "cells": [
  {
   "cell_type": "code",
   "execution_count": 1,
   "id": "a4bd3566",
   "metadata": {},
   "outputs": [
    {
     "name": "stdout",
     "output_type": "stream",
     "text": [
      "2.6.0\n"
     ]
    }
   ],
   "source": [
    "import tensorflow as tf\n",
    "from tensorflow import keras\n",
    "\n",
    "import numpy as np\n",
    "\n",
    "print(tf.__version__)"
   ]
  },
  {
   "cell_type": "code",
   "execution_count": 2,
   "id": "58157b52",
   "metadata": {},
   "outputs": [
    {
     "name": "stdout",
     "output_type": "stream",
     "text": [
      "Downloading data from https://storage.googleapis.com/tensorflow/tf-keras-datasets/imdb.npz\n",
      "17465344/17464789 [==============================] - 12s 1us/step\n",
      "17473536/17464789 [==============================] - 12s 1us/step\n"
     ]
    }
   ],
   "source": [
    "imdb = keras.datasets.imdb\n",
    "\n",
    "(train_data, train_labels), (test_data, test_labels) = imdb.load_data(num_words=10000)"
   ]
  },
  {
   "cell_type": "code",
   "execution_count": 3,
   "id": "4c9e71ca",
   "metadata": {},
   "outputs": [
    {
     "name": "stdout",
     "output_type": "stream",
     "text": [
      "훈련 샘플: 25000, 레이블: 25000\n"
     ]
    }
   ],
   "source": [
    "print(\"훈련 샘플: {}, 레이블: {}\".format(len(train_data), len(train_labels)))"
   ]
  },
  {
   "cell_type": "code",
   "execution_count": 4,
   "id": "03c786a7",
   "metadata": {},
   "outputs": [
    {
     "name": "stdout",
     "output_type": "stream",
     "text": [
      "[1, 14, 22, 16, 43, 530, 973, 1622, 1385, 65, 458, 4468, 66, 3941, 4, 173, 36, 256, 5, 25, 100, 43, 838, 112, 50, 670, 2, 9, 35, 480, 284, 5, 150, 4, 172, 112, 167, 2, 336, 385, 39, 4, 172, 4536, 1111, 17, 546, 38, 13, 447, 4, 192, 50, 16, 6, 147, 2025, 19, 14, 22, 4, 1920, 4613, 469, 4, 22, 71, 87, 12, 16, 43, 530, 38, 76, 15, 13, 1247, 4, 22, 17, 515, 17, 12, 16, 626, 18, 2, 5, 62, 386, 12, 8, 316, 8, 106, 5, 4, 2223, 5244, 16, 480, 66, 3785, 33, 4, 130, 12, 16, 38, 619, 5, 25, 124, 51, 36, 135, 48, 25, 1415, 33, 6, 22, 12, 215, 28, 77, 52, 5, 14, 407, 16, 82, 2, 8, 4, 107, 117, 5952, 15, 256, 4, 2, 7, 3766, 5, 723, 36, 71, 43, 530, 476, 26, 400, 317, 46, 7, 4, 2, 1029, 13, 104, 88, 4, 381, 15, 297, 98, 32, 2071, 56, 26, 141, 6, 194, 7486, 18, 4, 226, 22, 21, 134, 476, 26, 480, 5, 144, 30, 5535, 18, 51, 36, 28, 224, 92, 25, 104, 4, 226, 65, 16, 38, 1334, 88, 12, 16, 283, 5, 16, 4472, 113, 103, 32, 15, 16, 5345, 19, 178, 32]\n"
     ]
    }
   ],
   "source": [
    "print(train_data[0])"
   ]
  },
  {
   "cell_type": "code",
   "execution_count": 5,
   "id": "711e98e9",
   "metadata": {},
   "outputs": [
    {
     "data": {
      "text/plain": [
       "(218, 189)"
      ]
     },
     "execution_count": 5,
     "metadata": {},
     "output_type": "execute_result"
    }
   ],
   "source": [
    "len(train_data[0]), len(train_data[1])"
   ]
  },
  {
   "cell_type": "code",
   "execution_count": 6,
   "id": "bf3298ab",
   "metadata": {},
   "outputs": [
    {
     "name": "stdout",
     "output_type": "stream",
     "text": [
      "Downloading data from https://storage.googleapis.com/tensorflow/tf-keras-datasets/imdb_word_index.json\n",
      "1646592/1641221 [==============================] - 1s 0us/step\n",
      "1654784/1641221 [==============================] - 1s 0us/step\n"
     ]
    }
   ],
   "source": [
    "# 단어와 정수 인덱스를 매핑한 딕셔너리\n",
    "word_index = imdb.get_word_index()\n",
    "\n",
    "# 처음 몇 개 인덱스는 사전에 정의되어 있습니다\n",
    "word_index = {k:(v+3) for k,v in word_index.items()}\n",
    "word_index[\"<PAD>\"] = 0\n",
    "word_index[\"<START>\"] = 1\n",
    "word_index[\"<UNK>\"] = 2  # unknown\n",
    "word_index[\"<UNUSED>\"] = 3\n",
    "\n",
    "reverse_word_index = dict([(value, key) for (key, value) in word_index.items()])\n",
    "\n",
    "def decode_review(text):\n",
    "    return ' '.join([reverse_word_index.get(i, '?') for i in text])"
   ]
  },
  {
   "cell_type": "code",
   "execution_count": 7,
   "id": "40148c3f",
   "metadata": {},
   "outputs": [
    {
     "data": {
      "text/plain": [
       "\"<START> this film was just brilliant casting location scenery story direction everyone's really suited the part they played and you could just imagine being there robert <UNK> is an amazing actor and now the same being director <UNK> father came from the same scottish island as myself so i loved the fact there was a real connection with this film the witty remarks throughout the film were great it was just brilliant so much that i bought the film as soon as it was released for <UNK> and would recommend it to everyone to watch and the fly fishing was amazing really cried at the end it was so sad and you know what they say if you cry at a film it must have been good and this definitely was also <UNK> to the two little boy's that played the <UNK> of norman and paul they were just brilliant children are often left out of the <UNK> list i think because the stars that play them all grown up are such a big profile for the whole film but these children are amazing and should be praised for what they have done don't you think the whole story was so lovely because it was true and was someone's life after all that was shared with us all\""
      ]
     },
     "execution_count": 7,
     "metadata": {},
     "output_type": "execute_result"
    }
   ],
   "source": [
    "decode_review(train_data[0])"
   ]
  },
  {
   "cell_type": "code",
   "execution_count": 8,
   "id": "86ec91db",
   "metadata": {},
   "outputs": [],
   "source": [
    "train_data = keras.preprocessing.sequence.pad_sequences(train_data,\n",
    "                                                        value=word_index[\"<PAD>\"],\n",
    "                                                        padding='post',\n",
    "                                                        maxlen=256)\n",
    "\n",
    "test_data = keras.preprocessing.sequence.pad_sequences(test_data,\n",
    "                                                       value=word_index[\"<PAD>\"],\n",
    "                                                       padding='post',\n",
    "                                                       maxlen=256)"
   ]
  },
  {
   "cell_type": "code",
   "execution_count": 9,
   "id": "c4552048",
   "metadata": {},
   "outputs": [
    {
     "data": {
      "text/plain": [
       "(256, 256)"
      ]
     },
     "execution_count": 9,
     "metadata": {},
     "output_type": "execute_result"
    }
   ],
   "source": [
    "len(train_data[0]), len(train_data[1])"
   ]
  },
  {
   "cell_type": "code",
   "execution_count": 10,
   "id": "50202684",
   "metadata": {},
   "outputs": [
    {
     "name": "stdout",
     "output_type": "stream",
     "text": [
      "[   1   14   22   16   43  530  973 1622 1385   65  458 4468   66 3941\n",
      "    4  173   36  256    5   25  100   43  838  112   50  670    2    9\n",
      "   35  480  284    5  150    4  172  112  167    2  336  385   39    4\n",
      "  172 4536 1111   17  546   38   13  447    4  192   50   16    6  147\n",
      " 2025   19   14   22    4 1920 4613  469    4   22   71   87   12   16\n",
      "   43  530   38   76   15   13 1247    4   22   17  515   17   12   16\n",
      "  626   18    2    5   62  386   12    8  316    8  106    5    4 2223\n",
      " 5244   16  480   66 3785   33    4  130   12   16   38  619    5   25\n",
      "  124   51   36  135   48   25 1415   33    6   22   12  215   28   77\n",
      "   52    5   14  407   16   82    2    8    4  107  117 5952   15  256\n",
      "    4    2    7 3766    5  723   36   71   43  530  476   26  400  317\n",
      "   46    7    4    2 1029   13  104   88    4  381   15  297   98   32\n",
      " 2071   56   26  141    6  194 7486   18    4  226   22   21  134  476\n",
      "   26  480    5  144   30 5535   18   51   36   28  224   92   25  104\n",
      "    4  226   65   16   38 1334   88   12   16  283    5   16 4472  113\n",
      "  103   32   15   16 5345   19  178   32    0    0    0    0    0    0\n",
      "    0    0    0    0    0    0    0    0    0    0    0    0    0    0\n",
      "    0    0    0    0    0    0    0    0    0    0    0    0    0    0\n",
      "    0    0    0    0]\n"
     ]
    }
   ],
   "source": [
    "print(train_data[0])"
   ]
  },
  {
   "cell_type": "code",
   "execution_count": 11,
   "id": "6671b174",
   "metadata": {},
   "outputs": [
    {
     "name": "stdout",
     "output_type": "stream",
     "text": [
      "Model: \"sequential\"\n",
      "_________________________________________________________________\n",
      "Layer (type)                 Output Shape              Param #   \n",
      "=================================================================\n",
      "embedding (Embedding)        (None, None, 16)          160000    \n",
      "_________________________________________________________________\n",
      "global_average_pooling1d (Gl (None, 16)                0         \n",
      "_________________________________________________________________\n",
      "dense (Dense)                (None, 16)                272       \n",
      "_________________________________________________________________\n",
      "dense_1 (Dense)              (None, 1)                 17        \n",
      "=================================================================\n",
      "Total params: 160,289\n",
      "Trainable params: 160,289\n",
      "Non-trainable params: 0\n",
      "_________________________________________________________________\n"
     ]
    }
   ],
   "source": [
    "# 입력 크기는 영화 리뷰 데이터셋에 적용된 어휘 사전의 크기입니다(10,000개의 단어)\n",
    "vocab_size = 10000\n",
    "\n",
    "model = keras.Sequential()\n",
    "model.add(keras.layers.Embedding(vocab_size, 16, input_shape=(None,)))\n",
    "model.add(keras.layers.GlobalAveragePooling1D())\n",
    "model.add(keras.layers.Dense(16, activation='relu'))\n",
    "model.add(keras.layers.Dense(1, activation='sigmoid'))\n",
    "\n",
    "model.summary()"
   ]
  },
  {
   "cell_type": "code",
   "execution_count": 12,
   "id": "9edaa620",
   "metadata": {},
   "outputs": [],
   "source": [
    "model.compile(optimizer='adam',\n",
    "              loss='binary_crossentropy',\n",
    "              metrics=['accuracy'])"
   ]
  },
  {
   "cell_type": "code",
   "execution_count": 13,
   "id": "d9c96f9b",
   "metadata": {},
   "outputs": [],
   "source": [
    "x_val = train_data[:10000]\n",
    "partial_x_train = train_data[10000:]\n",
    "\n",
    "y_val = train_labels[:10000]\n",
    "partial_y_train = train_labels[10000:]"
   ]
  },
  {
   "cell_type": "code",
   "execution_count": 14,
   "id": "23e31d1c",
   "metadata": {},
   "outputs": [
    {
     "name": "stdout",
     "output_type": "stream",
     "text": [
      "Epoch 1/40\n",
      "30/30 [==============================] - 1s 23ms/step - loss: 0.6919 - accuracy: 0.5753 - val_loss: 0.6898 - val_accuracy: 0.6455\n",
      "Epoch 2/40\n",
      "30/30 [==============================] - 1s 20ms/step - loss: 0.6859 - accuracy: 0.6691 - val_loss: 0.6816 - val_accuracy: 0.7121\n",
      "Epoch 3/40\n",
      "30/30 [==============================] - 1s 21ms/step - loss: 0.6735 - accuracy: 0.7445 - val_loss: 0.6661 - val_accuracy: 0.7489\n",
      "Epoch 4/40\n",
      "30/30 [==============================] - 1s 17ms/step - loss: 0.6512 - accuracy: 0.7745 - val_loss: 0.6407 - val_accuracy: 0.7683\n",
      "Epoch 5/40\n",
      "30/30 [==============================] - 0s 16ms/step - loss: 0.6185 - accuracy: 0.7883 - val_loss: 0.6062 - val_accuracy: 0.7818\n",
      "Epoch 6/40\n",
      "30/30 [==============================] - 1s 17ms/step - loss: 0.5767 - accuracy: 0.8103 - val_loss: 0.5663 - val_accuracy: 0.7992\n",
      "Epoch 7/40\n",
      "30/30 [==============================] - 1s 17ms/step - loss: 0.5304 - accuracy: 0.8247 - val_loss: 0.5235 - val_accuracy: 0.8149\n",
      "Epoch 8/40\n",
      "30/30 [==============================] - 1s 18ms/step - loss: 0.4831 - accuracy: 0.8434 - val_loss: 0.4805 - val_accuracy: 0.8290\n",
      "Epoch 9/40\n",
      "30/30 [==============================] - 0s 17ms/step - loss: 0.4378 - accuracy: 0.8572 - val_loss: 0.4438 - val_accuracy: 0.8398\n",
      "Epoch 10/40\n",
      "30/30 [==============================] - 0s 16ms/step - loss: 0.3979 - accuracy: 0.8707 - val_loss: 0.4107 - val_accuracy: 0.8508\n",
      "Epoch 11/40\n",
      "30/30 [==============================] - 0s 15ms/step - loss: 0.3636 - accuracy: 0.8795 - val_loss: 0.3849 - val_accuracy: 0.8570\n",
      "Epoch 12/40\n",
      "30/30 [==============================] - 0s 16ms/step - loss: 0.3351 - accuracy: 0.8877 - val_loss: 0.3641 - val_accuracy: 0.8629\n",
      "Epoch 13/40\n",
      "30/30 [==============================] - 0s 16ms/step - loss: 0.3113 - accuracy: 0.8941 - val_loss: 0.3478 - val_accuracy: 0.8685\n",
      "Epoch 14/40\n",
      "30/30 [==============================] - 0s 15ms/step - loss: 0.2907 - accuracy: 0.8983 - val_loss: 0.3380 - val_accuracy: 0.8664\n",
      "Epoch 15/40\n",
      "30/30 [==============================] - 0s 15ms/step - loss: 0.2744 - accuracy: 0.9022 - val_loss: 0.3245 - val_accuracy: 0.8758\n",
      "Epoch 16/40\n",
      "30/30 [==============================] - 0s 16ms/step - loss: 0.2577 - accuracy: 0.9110 - val_loss: 0.3157 - val_accuracy: 0.8776\n",
      "Epoch 17/40\n",
      "30/30 [==============================] - 0s 16ms/step - loss: 0.2439 - accuracy: 0.9149 - val_loss: 0.3087 - val_accuracy: 0.8789\n",
      "Epoch 18/40\n",
      "30/30 [==============================] - 0s 15ms/step - loss: 0.2312 - accuracy: 0.9201 - val_loss: 0.3032 - val_accuracy: 0.8819\n",
      "Epoch 19/40\n",
      "30/30 [==============================] - 0s 15ms/step - loss: 0.2200 - accuracy: 0.9243 - val_loss: 0.2985 - val_accuracy: 0.8804\n",
      "Epoch 20/40\n",
      "30/30 [==============================] - 0s 16ms/step - loss: 0.2097 - accuracy: 0.9278 - val_loss: 0.2948 - val_accuracy: 0.8820\n",
      "Epoch 21/40\n",
      "30/30 [==============================] - 0s 16ms/step - loss: 0.2000 - accuracy: 0.9311 - val_loss: 0.2923 - val_accuracy: 0.8828\n",
      "Epoch 22/40\n",
      "30/30 [==============================] - 0s 16ms/step - loss: 0.1905 - accuracy: 0.9354 - val_loss: 0.2898 - val_accuracy: 0.8842\n",
      "Epoch 23/40\n",
      "30/30 [==============================] - 0s 16ms/step - loss: 0.1821 - accuracy: 0.9391 - val_loss: 0.2884 - val_accuracy: 0.8845\n",
      "Epoch 24/40\n",
      "30/30 [==============================] - 0s 15ms/step - loss: 0.1743 - accuracy: 0.9429 - val_loss: 0.2877 - val_accuracy: 0.8849\n",
      "Epoch 25/40\n",
      "30/30 [==============================] - 0s 16ms/step - loss: 0.1674 - accuracy: 0.9459 - val_loss: 0.2867 - val_accuracy: 0.8846\n",
      "Epoch 26/40\n",
      "30/30 [==============================] - 0s 16ms/step - loss: 0.1595 - accuracy: 0.9497 - val_loss: 0.2861 - val_accuracy: 0.8858\n",
      "Epoch 27/40\n",
      "30/30 [==============================] - 0s 16ms/step - loss: 0.1529 - accuracy: 0.9526 - val_loss: 0.2866 - val_accuracy: 0.8856\n",
      "Epoch 28/40\n",
      "30/30 [==============================] - 0s 15ms/step - loss: 0.1466 - accuracy: 0.9549 - val_loss: 0.2871 - val_accuracy: 0.8855\n",
      "Epoch 29/40\n",
      "30/30 [==============================] - 0s 16ms/step - loss: 0.1410 - accuracy: 0.9573 - val_loss: 0.2878 - val_accuracy: 0.8862\n",
      "Epoch 30/40\n",
      "30/30 [==============================] - 0s 15ms/step - loss: 0.1350 - accuracy: 0.9601 - val_loss: 0.2891 - val_accuracy: 0.8860\n",
      "Epoch 31/40\n",
      "30/30 [==============================] - 0s 16ms/step - loss: 0.1298 - accuracy: 0.9619 - val_loss: 0.2912 - val_accuracy: 0.8862\n",
      "Epoch 32/40\n",
      "30/30 [==============================] - 0s 16ms/step - loss: 0.1247 - accuracy: 0.9642 - val_loss: 0.2925 - val_accuracy: 0.8864\n",
      "Epoch 33/40\n",
      "30/30 [==============================] - 0s 16ms/step - loss: 0.1192 - accuracy: 0.9665 - val_loss: 0.2942 - val_accuracy: 0.8852\n",
      "Epoch 34/40\n",
      "30/30 [==============================] - 0s 16ms/step - loss: 0.1148 - accuracy: 0.9670 - val_loss: 0.2965 - val_accuracy: 0.8851\n",
      "Epoch 35/40\n",
      "30/30 [==============================] - 0s 15ms/step - loss: 0.1101 - accuracy: 0.9688 - val_loss: 0.2995 - val_accuracy: 0.8839\n",
      "Epoch 36/40\n",
      "30/30 [==============================] - 0s 16ms/step - loss: 0.1059 - accuracy: 0.9704 - val_loss: 0.3022 - val_accuracy: 0.8835\n",
      "Epoch 37/40\n",
      "30/30 [==============================] - 0s 15ms/step - loss: 0.1020 - accuracy: 0.9713 - val_loss: 0.3047 - val_accuracy: 0.8845\n",
      "Epoch 38/40\n",
      "30/30 [==============================] - 0s 16ms/step - loss: 0.0979 - accuracy: 0.9730 - val_loss: 0.3080 - val_accuracy: 0.8828\n",
      "Epoch 39/40\n",
      "30/30 [==============================] - 0s 15ms/step - loss: 0.0938 - accuracy: 0.9752 - val_loss: 0.3138 - val_accuracy: 0.8801\n",
      "Epoch 40/40\n",
      "30/30 [==============================] - 0s 16ms/step - loss: 0.0906 - accuracy: 0.9762 - val_loss: 0.3155 - val_accuracy: 0.8816\n"
     ]
    }
   ],
   "source": [
    "history = model.fit(partial_x_train,\n",
    "                    partial_y_train,\n",
    "                    epochs=40,\n",
    "                    batch_size=512,\n",
    "                    validation_data=(x_val, y_val),\n",
    "                    verbose=1)"
   ]
  },
  {
   "cell_type": "code",
   "execution_count": 15,
   "id": "b16b849f",
   "metadata": {},
   "outputs": [
    {
     "name": "stdout",
     "output_type": "stream",
     "text": [
      "782/782 - 0s - loss: 0.3347 - accuracy: 0.8717\n",
      "[0.3347488343715668, 0.871720016002655]\n"
     ]
    }
   ],
   "source": [
    "results = model.evaluate(test_data,  test_labels, verbose=2)\n",
    "\n",
    "print(results)"
   ]
  },
  {
   "cell_type": "code",
   "execution_count": 16,
   "id": "9fb2c061",
   "metadata": {},
   "outputs": [
    {
     "data": {
      "text/plain": [
       "dict_keys(['loss', 'accuracy', 'val_loss', 'val_accuracy'])"
      ]
     },
     "execution_count": 16,
     "metadata": {},
     "output_type": "execute_result"
    }
   ],
   "source": [
    "history_dict = history.history\n",
    "history_dict.keys()"
   ]
  },
  {
   "cell_type": "code",
   "execution_count": 17,
   "id": "062f1385",
   "metadata": {},
   "outputs": [
    {
     "data": {
      "image/png": "[encoded data removed]",
      "text/plain": [
       "<Figure size 432x288 with 1 Axes>"
      ]
     },
     "metadata": {
      "needs_background": "light"
     },
     "output_type": "display_data"
    }
   ],
   "source": [
    "import matplotlib.pyplot as plt\n",
    "\n",
    "acc = history_dict['accuracy']\n",
    "val_acc = history_dict['val_accuracy']\n",
    "loss = history_dict['loss']\n",
    "val_loss = history_dict['val_loss']\n",
    "\n",
    "epochs = range(1, len(acc) + 1)\n",
    "\n",
    "# \"bo\"는 \"파란색 점\"입니다\n",
    "plt.plot(epochs, loss, 'bo', label='Training loss')\n",
    "# b는 \"파란 실선\"입니다\n",
    "plt.plot(epochs, val_loss, 'b', label='Validation loss')\n",
    "plt.title('Training and validation loss')\n",
    "plt.xlabel('Epochs')\n",
    "plt.ylabel('Loss')\n",
    "plt.legend()\n",
    "\n",
    "plt.show()"
   ]
  },
  {
   "cell_type": "code",
   "execution_count": 18,
   "id": "63b55e69",
   "metadata": {},
   "outputs": [
    {
     "data": {
      "image/png": "[encoded data removed]",
      "text/plain": [
       "<Figure size 432x288 with 1 Axes>"
      ]
     },
     "metadata": {
      "needs_background": "light"
     },
     "output_type": "display_data"
    }
   ],
   "source": [
    "plt.clf()   # 그림을 초기화합니다\n",
    "\n",
    "plt.plot(epochs, acc, 'bo', label='Training acc')\n",
    "plt.plot(epochs, val_acc, 'b', label='Validation acc')\n",
    "plt.title('Training and validation accuracy')\n",
    "plt.xlabel('Epochs')\n",
    "plt.ylabel('Accuracy')\n",
    "plt.legend()\n",
    "\n",
    "plt.show()"
   ]
  }
 ],
 "metadata": {
  "kernelspec": {
   "display_name": "mibot",
   "language": "python",
   "name": "conda"
  },
  "language_info": {
   "codemirror_mode": {
    "name": "ipython",
    "version": 3
   },
   "file_extension": ".py",
   "mimetype": "text/x-python",
   "name": "python",
   "nbconvert_exporter": "python",
   "pygments_lexer": "ipython3",
   "version": "3.9.12"
  }
 },
 "nbformat": 4,
 "nbformat_minor": 5
}
